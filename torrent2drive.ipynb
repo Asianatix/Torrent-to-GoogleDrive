{
  "nbformat": 4,
  "nbformat_minor": 0,
  "metadata": {
    "colab": {
      "name": "torrent2drive.ipynb",
      "provenance": []
    },
    "kernelspec": {
      "name": "python3",
      "display_name": "Python 3"
    }
  },
  "cells": [
    {
      "cell_type": "code",
      "metadata": {
        "id": "MAlLN2YSGrHr",
        "colab_type": "code",
        "colab": {}
      },
      "source": [
        "from google.colab import drive\n",
        "drive.mount('/content/drive')"
      ],
      "execution_count": 0,
      "outputs": []
    },
    {
      "cell_type": "code",
      "metadata": {
        "id": "TXoPCglqG2sN",
        "colab_type": "code",
        "colab": {}
      },
      "source": [
        "!sudo apt-get install transmission-cli"
      ],
      "execution_count": 0,
      "outputs": []
    },
    {
      "cell_type": "code",
      "metadata": {
        "id": "bWqA9kKQG_Jy",
        "colab_type": "code",
        "colab": {}
      },
      "source": [
        "!transmission-cli -w "
      ],
      "execution_count": 0,
      "outputs": []
    }
  ]
}